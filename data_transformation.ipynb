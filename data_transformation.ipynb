{
 "cells": [
  {
   "cell_type": "code",
   "execution_count": 1,
   "id": "c2237a4a",
   "metadata": {},
   "outputs": [
    {
     "name": "stderr",
     "output_type": "stream",
     "text": [
      "24/06/21 14:21:08 WARN Utils: Your hostname, marwen resolves to a loopback address: 127.0.1.1; using 192.168.1.4 instead (on interface wlp3s0)\n",
      "24/06/21 14:21:08 WARN Utils: Set SPARK_LOCAL_IP if you need to bind to another address\n",
      "Setting default log level to \"WARN\".\n",
      "To adjust logging level use sc.setLogLevel(newLevel). For SparkR, use setLogLevel(newLevel).\n",
      "24/06/21 14:21:11 WARN NativeCodeLoader: Unable to load native-hadoop library for your platform... using builtin-java classes where applicable\n"
     ]
    }
   ],
   "source": [
    "from pyspark.sql import SparkSession\n",
    "\n",
    "spark = SparkSession.builder.appName('stads').getOrCreate()"
   ]
  },
  {
   "cell_type": "code",
   "execution_count": 2,
   "id": "20d72649",
   "metadata": {},
   "outputs": [
    {
     "data": {
      "text/html": [
       "\n",
       "            <div>\n",
       "                <p><b>SparkSession - in-memory</b></p>\n",
       "                \n",
       "        <div>\n",
       "            <p><b>SparkContext</b></p>\n",
       "\n",
       "            <p><a href=\"http://192.168.1.4:4040\">Spark UI</a></p>\n",
       "\n",
       "            <dl>\n",
       "              <dt>Version</dt>\n",
       "                <dd><code>v3.5.1</code></dd>\n",
       "              <dt>Master</dt>\n",
       "                <dd><code>local[*]</code></dd>\n",
       "              <dt>AppName</dt>\n",
       "                <dd><code>stads</code></dd>\n",
       "            </dl>\n",
       "        </div>\n",
       "        \n",
       "            </div>\n",
       "        "
      ],
      "text/plain": [
       "<pyspark.sql.session.SparkSession at 0x7f5070bc57c0>"
      ]
     },
     "execution_count": 2,
     "metadata": {},
     "output_type": "execute_result"
    }
   ],
   "source": [
    "spark"
   ]
  },
  {
   "cell_type": "code",
   "execution_count": 3,
   "id": "5d9e881b-e752-4ab7-8a99-2308c8a7ae6e",
   "metadata": {},
   "outputs": [
    {
     "name": "stderr",
     "output_type": "stream",
     "text": [
      "                                                                                \r"
     ]
    }
   ],
   "source": [
    "df = spark.read.csv('stads.csv', inferSchema= True, header= True, multiLine= True)"
   ]
  },
  {
   "cell_type": "code",
   "execution_count": 4,
   "id": "d9be0353-482f-4293-af78-5f55e2260cd3",
   "metadata": {},
   "outputs": [
    {
     "data": {
      "text/plain": [
       "pyspark.sql.dataframe.DataFrame"
      ]
     },
     "execution_count": 4,
     "metadata": {},
     "output_type": "execute_result"
    }
   ],
   "source": [
    "type(df)"
   ]
  },
  {
   "cell_type": "code",
   "execution_count": 5,
   "id": "b3b9b0a2-7d4c-4031-8ad5-13c54ecf1ef3",
   "metadata": {},
   "outputs": [
    {
     "data": {
      "text/plain": [
       "DataFrame[Stadium: string, Seating capacity: string, Region: string, Country: string, City: string, Images: string, Home team(s): string]"
      ]
     },
     "execution_count": 5,
     "metadata": {},
     "output_type": "execute_result"
    }
   ],
   "source": [
    "df"
   ]
  },
  {
   "cell_type": "code",
   "execution_count": 59,
   "id": "2aedd6ad-7041-4840-a358-0de1bddf5146",
   "metadata": {},
   "outputs": [
    {
     "name": "stdout",
     "output_type": "stream",
     "text": [
      "+--------------------+----------------+----------------+----------------+--------------------+------+--------------------+\n",
      "|             Stadium|Seating capacity|          Region|         Country|                City|Images|        Home team(s)|\n",
      "+--------------------+----------------+----------------+----------------+--------------------+------+--------------------+\n",
      "|Rungrado 1st of M...|      114,000[1]|       East Asia|     North Korea|         Pyongyang\\n|  NULL|Korea DPR nationa...|\n",
      "|    Michigan Stadium|      107,601[2]|   North America|   United States|Ann Arbor, Michig...|    \\n|Michigan Wolverin...|\n",
      "|        Ohio Stadium|      102,780[3]|   North America|   United States|      Columbus, Ohio|  NULL|Ohio State Buckey...|\n",
      "|Melbourne Cricket...|      100,024[4]|         Oceania|       Australia| Melbourne, Victoria|  NULL|Australia nationa...|\n",
      "|          Camp Nou ♦|       99,354[5]|          Europe|           Spain|Barcelona, Catalo...|  NULL|      FC Barcelona\\n|\n",
      "|    Estadio Azteca ♦|       95,500[6]|   North America|          Mexico|       Mexico City\\n|  NULL|Club América, Cru...|\n",
      "|       FNB Stadium ♦|       94,736[7]|          Africa|    South Africa|Johannesburg, Gau...|  NULL|South Africa nati...|\n",
      "|New Administrativ...|       93,940[8]|          Africa|           Egypt|New Administrativ...|  NULL|Egypt national fo...|\n",
      "|   Rose Bowl Stadium|       92,800[9]|   North America|   United States|Pasadena, Califor...|  NULL|       UCLA Bruins\\n|\n",
      "| Cotton Bowl Stadium|      92,100[10]|   North America|   United States|       Dallas, Texas|  NULL|                  \\n|\n",
      "| Wembley Stadium ♦\\n|    90,000[11]\\n|        Europe\\n|       England\\n|   London, England\\n|    \\n|England national ...|\n",
      "|  Lusail Stadium ♦\\n|    88,966[12]\\n|     West Asia\\n|         Qatar\\n|            Lusail\\n|    \\n|Qatar national fo...|\n",
      "|Bukit Jalil Natio...|          87,411|  Southeast Asia|        Malaysia|      Kuala Lumpur\\n|  NULL|Malaysia national...|\n",
      "|Borg el-Arab Stad...|      86,000[14]|          Africa|           Egypt|        Alexandria\\n|  NULL|Egypt national fo...|\n",
      "|Estadio Santiago ...|      85,000[15]|          Europe|           Spain|            Madrid\\n|  NULL|       Real Madrid\\n|\n",
      "|Estadio Mâs Monum...|          84,567|   South America|       Argentina|      Buenos Aires\\n|  NULL|Argentina nationa...|\n",
      "|   Stadium Australia|          83,500|         Oceania|     Australia\\n|Sydney, New South...|  NULL|South Sydney Rabb...|\n",
      "|     MetLife Stadium|          82,500|   North America| United States\\n|East Rutherford, ...|  NULL|New York Giants, ...|\n",
      "|        Croke Park ♦|      82,300[16]|          Europe|         Ireland|            Dublin\\n|  NULL|Gaelic Athletic A...|\n",
      "|Jakarta Internati...|        82,000\\n|Southeast Asia\\n|     Indonesia\\n|           Jakarta\\n|    \\n|Persija Jakarta, ...|\n",
      "+--------------------+----------------+----------------+----------------+--------------------+------+--------------------+\n",
      "only showing top 20 rows\n",
      "\n"
     ]
    }
   ],
   "source": [
    "df.show()"
   ]
  },
  {
   "cell_type": "code",
   "execution_count": 6,
   "id": "ef1cd120-136b-4adb-a7fa-6aa7de71e9bf",
   "metadata": {},
   "outputs": [
    {
     "name": "stdout",
     "output_type": "stream",
     "text": [
      "root\n",
      " |-- Stadium: string (nullable = true)\n",
      " |-- Seating capacity: string (nullable = true)\n",
      " |-- Region: string (nullable = true)\n",
      " |-- Country: string (nullable = true)\n",
      " |-- City: string (nullable = true)\n",
      " |-- Images: string (nullable = true)\n",
      " |-- Home team(s): string (nullable = true)\n",
      "\n"
     ]
    }
   ],
   "source": [
    "df.printSchema()"
   ]
  },
  {
   "cell_type": "code",
   "execution_count": 7,
   "id": "a4046a67-271f-47b3-bf04-23fdacea5665",
   "metadata": {},
   "outputs": [],
   "source": [
    "# tranformation functions\n",
    "\n",
    "def clean_text(text):\n",
    "    \n",
    "    import re\n",
    "    \n",
    "    # replace newline characters with an empty string\n",
    "    if text:\n",
    "        text = text.replace('\\n', '')\n",
    "    \n",
    "    # replace the '♦' character with an empty string\n",
    "    if text:\n",
    "        text = text.replace('♦', '')\n",
    "    \n",
    "    # remove leading and trailing whitespace\n",
    "    if text:\n",
    "        text = re.sub(r'^\\s+|\\s+$', '', text)\n",
    "    \n",
    "    return text\n",
    "\n",
    "\n",
    "def clean_integer(string):\n",
    "    \n",
    "    import re\n",
    "\n",
    "    string = re.sub(r'\\[.*?\\]', '', string)\n",
    "        \n",
    "    if string:\n",
    "        \n",
    "        string = string.replace(',', '') \n",
    "\n",
    "    return string"
   ]
  },
  {
   "cell_type": "code",
   "execution_count": 8,
   "id": "261ae36b-c428-434b-a77d-ca715b4f07ba",
   "metadata": {},
   "outputs": [],
   "source": [
    "# create udfs\n",
    "\n",
    "from pyspark.sql.functions import udf\n",
    "\n",
    "from pyspark.sql.types import StringType\n",
    "\n",
    "clean_text_udf = udf(clean_text, StringType())\n",
    "\n",
    "clean_integer_udf = udf(clean_integer, StringType())"
   ]
  },
  {
   "cell_type": "code",
   "execution_count": 9,
   "id": "348b22e8-1c2b-43ef-9629-b927359257cb",
   "metadata": {},
   "outputs": [
    {
     "name": "stderr",
     "output_type": "stream",
     "text": [
      "                                                                                \r"
     ]
    },
    {
     "name": "stdout",
     "output_type": "stream",
     "text": [
      "+--------------------+----------------+--------------+-------------+--------------------+------+--------------------+\n",
      "|             Stadium|Seating capacity|        Region|      Country|                City|Images|        Home team(s)|\n",
      "+--------------------+----------------+--------------+-------------+--------------------+------+--------------------+\n",
      "|Rungrado 1st of M...|          114000|     East Asia|  North Korea|           Pyongyang|  NULL|Korea DPR nationa...|\n",
      "|    Michigan Stadium|          107601| North America|United States| Ann Arbor, Michigan|    \\n|Michigan Wolverin...|\n",
      "|        Ohio Stadium|          102780| North America|United States|      Columbus, Ohio|  NULL|Ohio State Buckey...|\n",
      "|Melbourne Cricket...|          100024|       Oceania|    Australia| Melbourne, Victoria|  NULL|Australia nationa...|\n",
      "|            Camp Nou|           99354|        Europe|        Spain|Barcelona, Catalonia|  NULL|        FC Barcelona|\n",
      "|      Estadio Azteca|           95500| North America|       Mexico|         Mexico City|  NULL|Club América, Cru...|\n",
      "|         FNB Stadium|           94736|        Africa| South Africa|Johannesburg, Gau...|  NULL|South Africa nati...|\n",
      "|New Administrativ...|           93940|        Africa|        Egypt|New Administrativ...|  NULL|Egypt national fo...|\n",
      "|   Rose Bowl Stadium|           92800| North America|United States|Pasadena, California|  NULL|         UCLA Bruins|\n",
      "| Cotton Bowl Stadium|           92100| North America|United States|       Dallas, Texas|  NULL|                    |\n",
      "|     Wembley Stadium|           90000|        Europe|      England|     London, England|    \\n|England national ...|\n",
      "|      Lusail Stadium|           88966|     West Asia|        Qatar|              Lusail|    \\n|Qatar national fo...|\n",
      "|Bukit Jalil Natio...|           87411|Southeast Asia|     Malaysia|        Kuala Lumpur|  NULL|Malaysia national...|\n",
      "|Borg el-Arab Stadium|           86000|        Africa|        Egypt|          Alexandria|  NULL|Egypt national fo...|\n",
      "|Estadio Santiago ...|           85000|        Europe|        Spain|              Madrid|  NULL|         Real Madrid|\n",
      "|Estadio Mâs Monum...|           84567| South America|    Argentina|        Buenos Aires|  NULL|Argentina nationa...|\n",
      "|   Stadium Australia|           83500|       Oceania|    Australia|Sydney, New South...|  NULL|South Sydney Rabb...|\n",
      "|     MetLife Stadium|           82500| North America|United States|East Rutherford, ...|  NULL|New York Giants, ...|\n",
      "|          Croke Park|           82300|        Europe|      Ireland|              Dublin|  NULL|Gaelic Athletic A...|\n",
      "|Jakarta Internati...|           82000|Southeast Asia|    Indonesia|             Jakarta|    \\n|Persija Jakarta, ...|\n",
      "+--------------------+----------------+--------------+-------------+--------------------+------+--------------------+\n",
      "only showing top 20 rows\n",
      "\n"
     ]
    }
   ],
   "source": [
    "# apply transformations to the df\n",
    "\n",
    "# for all columns except Images, clean text\n",
    "for column in df.columns:\n",
    "\n",
    "    if column != 'Images':\n",
    "    \n",
    "        df = df.withColumn(column, clean_text_udf(df[column]))\n",
    "\n",
    "# for Seating capacity column, apply integer specific transformations\n",
    "df = df.withColumn('Seating capacity', clean_integer_udf(df['Seating capacity']))\n",
    "\n",
    "df.show()"
   ]
  },
  {
   "cell_type": "code",
   "execution_count": 12,
   "id": "dc0075f7-783c-437b-bbdc-9b01683d1e1f",
   "metadata": {},
   "outputs": [
    {
     "name": "stdout",
     "output_type": "stream",
     "text": [
      "+--------------------+----------------+--------------+-------------+--------------------+------+--------------------+\n",
      "|             Stadium|Seating capacity|        Region|      Country|                City|Images|        Home team(s)|\n",
      "+--------------------+----------------+--------------+-------------+--------------------+------+--------------------+\n",
      "|Rungrado 1st of M...|          114000|     East Asia|  North Korea|           Pyongyang|  NULL|Korea DPR nationa...|\n",
      "|    Michigan Stadium|          107601| North America|United States| Ann Arbor, Michigan|    \\n|Michigan Wolverin...|\n",
      "|        Ohio Stadium|          102780| North America|United States|      Columbus, Ohio|  NULL|Ohio State Buckey...|\n",
      "|Melbourne Cricket...|          100024|       Oceania|    Australia| Melbourne, Victoria|  NULL|Australia nationa...|\n",
      "|            Camp Nou|           99354|        Europe|        Spain|Barcelona, Catalonia|  NULL|        FC Barcelona|\n",
      "|      Estadio Azteca|           95500| North America|       Mexico|         Mexico City|  NULL|Club América, Cru...|\n",
      "|         FNB Stadium|           94736|        Africa| South Africa|Johannesburg, Gau...|  NULL|South Africa nati...|\n",
      "|New Administrativ...|           93940|        Africa|        Egypt|New Administrativ...|  NULL|Egypt national fo...|\n",
      "|   Rose Bowl Stadium|           92800| North America|United States|Pasadena, California|  NULL|         UCLA Bruins|\n",
      "| Cotton Bowl Stadium|           92100| North America|United States|       Dallas, Texas|  NULL|                    |\n",
      "|     Wembley Stadium|           90000|        Europe|      England|     London, England|    \\n|England national ...|\n",
      "|      Lusail Stadium|           88966|     West Asia|        Qatar|              Lusail|    \\n|Qatar national fo...|\n",
      "|Bukit Jalil Natio...|           87411|Southeast Asia|     Malaysia|        Kuala Lumpur|  NULL|Malaysia national...|\n",
      "|Borg el-Arab Stadium|           86000|        Africa|        Egypt|          Alexandria|  NULL|Egypt national fo...|\n",
      "|Estadio Santiago ...|           85000|        Europe|        Spain|              Madrid|  NULL|         Real Madrid|\n",
      "|Estadio Mâs Monum...|           84567| South America|    Argentina|        Buenos Aires|  NULL|Argentina nationa...|\n",
      "|   Stadium Australia|           83500|       Oceania|    Australia|Sydney, New South...|  NULL|South Sydney Rabb...|\n",
      "|     MetLife Stadium|           82500| North America|United States|East Rutherford, ...|  NULL|New York Giants, ...|\n",
      "|          Croke Park|           82300|        Europe|      Ireland|              Dublin|  NULL|Gaelic Athletic A...|\n",
      "|Jakarta Internati...|           82000|Southeast Asia|    Indonesia|             Jakarta|    \\n|Persija Jakarta, ...|\n",
      "+--------------------+----------------+--------------+-------------+--------------------+------+--------------------+\n",
      "only showing top 20 rows\n",
      "\n"
     ]
    }
   ],
   "source": [
    "# convert Seating capacity to integer\n",
    "from pyspark.sql.functions import col\n",
    "\n",
    "df = df.withColumn(\"Seating capacity\", col(\"Seating capacity\").cast('integer'))\n",
    "\n",
    "df.show()"
   ]
  },
  {
   "cell_type": "code",
   "execution_count": 13,
   "id": "9a6c0fcf-facd-4da4-b3c2-b906f83dd085",
   "metadata": {},
   "outputs": [
    {
     "name": "stdout",
     "output_type": "stream",
     "text": [
      "root\n",
      " |-- Stadium: string (nullable = true)\n",
      " |-- Seating capacity: integer (nullable = true)\n",
      " |-- Region: string (nullable = true)\n",
      " |-- Country: string (nullable = true)\n",
      " |-- City: string (nullable = true)\n",
      " |-- Images: string (nullable = true)\n",
      " |-- Home team(s): string (nullable = true)\n",
      "\n"
     ]
    }
   ],
   "source": [
    "df.printSchema()"
   ]
  },
  {
   "cell_type": "code",
   "execution_count": 25,
   "id": "1794eeb4-e71b-447f-b17d-4b760250e57b",
   "metadata": {},
   "outputs": [
    {
     "name": "stderr",
     "output_type": "stream",
     "text": [
      "24/06/21 14:43:51 WARN FileUtil: Failed to delete file or dir [/home/marwen/Applications/experiments/stadiums_data_pipeline]: it still exists.\n"
     ]
    },
    {
     "ename": "Py4JJavaError",
     "evalue": "An error occurred while calling o145.csv.\n: org.apache.spark.SparkException: Unable to clear output directory file:/home/marwen/Applications/experiments/stadiums_data_pipeline prior to writing to it.\n\tat org.apache.spark.sql.errors.QueryExecutionErrors$.cannotClearOutputDirectoryError(QueryExecutionErrors.scala:794)\n\tat org.apache.spark.sql.execution.datasources.InsertIntoHadoopFsRelationCommand.deleteMatchingPartitions(InsertIntoHadoopFsRelationCommand.scala:239)\n\tat org.apache.spark.sql.execution.datasources.InsertIntoHadoopFsRelationCommand.run(InsertIntoHadoopFsRelationCommand.scala:131)\n\tat org.apache.spark.sql.execution.command.DataWritingCommandExec.sideEffectResult$lzycompute(commands.scala:113)\n\tat org.apache.spark.sql.execution.command.DataWritingCommandExec.sideEffectResult(commands.scala:111)\n\tat org.apache.spark.sql.execution.command.DataWritingCommandExec.executeCollect(commands.scala:125)\n\tat org.apache.spark.sql.execution.QueryExecution$$anonfun$eagerlyExecuteCommands$1.$anonfun$applyOrElse$1(QueryExecution.scala:107)\n\tat org.apache.spark.sql.execution.SQLExecution$.$anonfun$withNewExecutionId$6(SQLExecution.scala:125)\n\tat org.apache.spark.sql.execution.SQLExecution$.withSQLConfPropagated(SQLExecution.scala:201)\n\tat org.apache.spark.sql.execution.SQLExecution$.$anonfun$withNewExecutionId$1(SQLExecution.scala:108)\n\tat org.apache.spark.sql.SparkSession.withActive(SparkSession.scala:900)\n\tat org.apache.spark.sql.execution.SQLExecution$.withNewExecutionId(SQLExecution.scala:66)\n\tat org.apache.spark.sql.execution.QueryExecution$$anonfun$eagerlyExecuteCommands$1.applyOrElse(QueryExecution.scala:107)\n\tat org.apache.spark.sql.execution.QueryExecution$$anonfun$eagerlyExecuteCommands$1.applyOrElse(QueryExecution.scala:98)\n\tat org.apache.spark.sql.catalyst.trees.TreeNode.$anonfun$transformDownWithPruning$1(TreeNode.scala:461)\n\tat org.apache.spark.sql.catalyst.trees.CurrentOrigin$.withOrigin(origin.scala:76)\n\tat org.apache.spark.sql.catalyst.trees.TreeNode.transformDownWithPruning(TreeNode.scala:461)\n\tat org.apache.spark.sql.catalyst.plans.logical.LogicalPlan.org$apache$spark$sql$catalyst$plans$logical$AnalysisHelper$$super$transformDownWithPruning(LogicalPlan.scala:32)\n\tat org.apache.spark.sql.catalyst.plans.logical.AnalysisHelper.transformDownWithPruning(AnalysisHelper.scala:267)\n\tat org.apache.spark.sql.catalyst.plans.logical.AnalysisHelper.transformDownWithPruning$(AnalysisHelper.scala:263)\n\tat org.apache.spark.sql.catalyst.plans.logical.LogicalPlan.transformDownWithPruning(LogicalPlan.scala:32)\n\tat org.apache.spark.sql.catalyst.plans.logical.LogicalPlan.transformDownWithPruning(LogicalPlan.scala:32)\n\tat org.apache.spark.sql.catalyst.trees.TreeNode.transformDown(TreeNode.scala:437)\n\tat org.apache.spark.sql.execution.QueryExecution.eagerlyExecuteCommands(QueryExecution.scala:98)\n\tat org.apache.spark.sql.execution.QueryExecution.commandExecuted$lzycompute(QueryExecution.scala:85)\n\tat org.apache.spark.sql.execution.QueryExecution.commandExecuted(QueryExecution.scala:83)\n\tat org.apache.spark.sql.execution.QueryExecution.assertCommandExecuted(QueryExecution.scala:142)\n\tat org.apache.spark.sql.DataFrameWriter.runCommand(DataFrameWriter.scala:859)\n\tat org.apache.spark.sql.DataFrameWriter.saveToV1Source(DataFrameWriter.scala:388)\n\tat org.apache.spark.sql.DataFrameWriter.saveInternal(DataFrameWriter.scala:361)\n\tat org.apache.spark.sql.DataFrameWriter.save(DataFrameWriter.scala:240)\n\tat org.apache.spark.sql.DataFrameWriter.csv(DataFrameWriter.scala:850)\n\tat java.base/jdk.internal.reflect.NativeMethodAccessorImpl.invoke0(Native Method)\n\tat java.base/jdk.internal.reflect.NativeMethodAccessorImpl.invoke(NativeMethodAccessorImpl.java:62)\n\tat java.base/jdk.internal.reflect.DelegatingMethodAccessorImpl.invoke(DelegatingMethodAccessorImpl.java:43)\n\tat java.base/java.lang.reflect.Method.invoke(Method.java:566)\n\tat py4j.reflection.MethodInvoker.invoke(MethodInvoker.java:244)\n\tat py4j.reflection.ReflectionEngine.invoke(ReflectionEngine.java:374)\n\tat py4j.Gateway.invoke(Gateway.java:282)\n\tat py4j.commands.AbstractCommand.invokeMethod(AbstractCommand.java:132)\n\tat py4j.commands.CallCommand.execute(CallCommand.java:79)\n\tat py4j.ClientServerConnection.waitForCommands(ClientServerConnection.java:182)\n\tat py4j.ClientServerConnection.run(ClientServerConnection.java:106)\n\tat java.base/java.lang.Thread.run(Thread.java:829)\n",
     "output_type": "error",
     "traceback": [
      "\u001b[0;31m---------------------------------------------------------------------------\u001b[0m",
      "\u001b[0;31mPy4JJavaError\u001b[0m                             Traceback (most recent call last)",
      "Cell \u001b[0;32mIn[25], line 1\u001b[0m\n\u001b[0;32m----> 1\u001b[0m \u001b[43mdf\u001b[49m\u001b[38;5;241;43m.\u001b[39;49m\u001b[43mwrite\u001b[49m\u001b[38;5;241;43m.\u001b[39;49m\u001b[43mcsv\u001b[49m\u001b[43m(\u001b[49m\u001b[38;5;124;43m'\u001b[39;49m\u001b[38;5;124;43m.\u001b[39;49m\u001b[38;5;124;43m'\u001b[39;49m\u001b[43m,\u001b[49m\u001b[43m \u001b[49m\u001b[43mheader\u001b[49m\u001b[38;5;241;43m=\u001b[39;49m\u001b[43m \u001b[49m\u001b[38;5;28;43;01mTrue\u001b[39;49;00m\u001b[43m,\u001b[49m\u001b[43m \u001b[49m\u001b[43mmode\u001b[49m\u001b[38;5;241;43m=\u001b[39;49m\u001b[43m \u001b[49m\u001b[38;5;124;43m'\u001b[39;49m\u001b[38;5;124;43moverwrite\u001b[39;49m\u001b[38;5;124;43m'\u001b[39;49m\u001b[43m)\u001b[49m\n",
      "File \u001b[0;32m~/Applications/experiments/stadiums_data_pipeline/stads/lib/python3.8/site-packages/pyspark/sql/readwriter.py:1864\u001b[0m, in \u001b[0;36mDataFrameWriter.csv\u001b[0;34m(self, path, mode, compression, sep, quote, escape, header, nullValue, escapeQuotes, quoteAll, dateFormat, timestampFormat, ignoreLeadingWhiteSpace, ignoreTrailingWhiteSpace, charToEscapeQuoteEscaping, encoding, emptyValue, lineSep)\u001b[0m\n\u001b[1;32m   1845\u001b[0m \u001b[38;5;28mself\u001b[39m\u001b[38;5;241m.\u001b[39mmode(mode)\n\u001b[1;32m   1846\u001b[0m \u001b[38;5;28mself\u001b[39m\u001b[38;5;241m.\u001b[39m_set_opts(\n\u001b[1;32m   1847\u001b[0m     compression\u001b[38;5;241m=\u001b[39mcompression,\n\u001b[1;32m   1848\u001b[0m     sep\u001b[38;5;241m=\u001b[39msep,\n\u001b[0;32m   (...)\u001b[0m\n\u001b[1;32m   1862\u001b[0m     lineSep\u001b[38;5;241m=\u001b[39mlineSep,\n\u001b[1;32m   1863\u001b[0m )\n\u001b[0;32m-> 1864\u001b[0m \u001b[38;5;28;43mself\u001b[39;49m\u001b[38;5;241;43m.\u001b[39;49m\u001b[43m_jwrite\u001b[49m\u001b[38;5;241;43m.\u001b[39;49m\u001b[43mcsv\u001b[49m\u001b[43m(\u001b[49m\u001b[43mpath\u001b[49m\u001b[43m)\u001b[49m\n",
      "File \u001b[0;32m~/Applications/experiments/stadiums_data_pipeline/stads/lib/python3.8/site-packages/py4j/java_gateway.py:1322\u001b[0m, in \u001b[0;36mJavaMember.__call__\u001b[0;34m(self, *args)\u001b[0m\n\u001b[1;32m   1316\u001b[0m command \u001b[38;5;241m=\u001b[39m proto\u001b[38;5;241m.\u001b[39mCALL_COMMAND_NAME \u001b[38;5;241m+\u001b[39m\\\n\u001b[1;32m   1317\u001b[0m     \u001b[38;5;28mself\u001b[39m\u001b[38;5;241m.\u001b[39mcommand_header \u001b[38;5;241m+\u001b[39m\\\n\u001b[1;32m   1318\u001b[0m     args_command \u001b[38;5;241m+\u001b[39m\\\n\u001b[1;32m   1319\u001b[0m     proto\u001b[38;5;241m.\u001b[39mEND_COMMAND_PART\n\u001b[1;32m   1321\u001b[0m answer \u001b[38;5;241m=\u001b[39m \u001b[38;5;28mself\u001b[39m\u001b[38;5;241m.\u001b[39mgateway_client\u001b[38;5;241m.\u001b[39msend_command(command)\n\u001b[0;32m-> 1322\u001b[0m return_value \u001b[38;5;241m=\u001b[39m \u001b[43mget_return_value\u001b[49m\u001b[43m(\u001b[49m\n\u001b[1;32m   1323\u001b[0m \u001b[43m    \u001b[49m\u001b[43manswer\u001b[49m\u001b[43m,\u001b[49m\u001b[43m \u001b[49m\u001b[38;5;28;43mself\u001b[39;49m\u001b[38;5;241;43m.\u001b[39;49m\u001b[43mgateway_client\u001b[49m\u001b[43m,\u001b[49m\u001b[43m \u001b[49m\u001b[38;5;28;43mself\u001b[39;49m\u001b[38;5;241;43m.\u001b[39;49m\u001b[43mtarget_id\u001b[49m\u001b[43m,\u001b[49m\u001b[43m \u001b[49m\u001b[38;5;28;43mself\u001b[39;49m\u001b[38;5;241;43m.\u001b[39;49m\u001b[43mname\u001b[49m\u001b[43m)\u001b[49m\n\u001b[1;32m   1325\u001b[0m \u001b[38;5;28;01mfor\u001b[39;00m temp_arg \u001b[38;5;129;01min\u001b[39;00m temp_args:\n\u001b[1;32m   1326\u001b[0m     \u001b[38;5;28;01mif\u001b[39;00m \u001b[38;5;28mhasattr\u001b[39m(temp_arg, \u001b[38;5;124m\"\u001b[39m\u001b[38;5;124m_detach\u001b[39m\u001b[38;5;124m\"\u001b[39m):\n",
      "File \u001b[0;32m~/Applications/experiments/stadiums_data_pipeline/stads/lib/python3.8/site-packages/pyspark/errors/exceptions/captured.py:179\u001b[0m, in \u001b[0;36mcapture_sql_exception.<locals>.deco\u001b[0;34m(*a, **kw)\u001b[0m\n\u001b[1;32m    177\u001b[0m \u001b[38;5;28;01mdef\u001b[39;00m \u001b[38;5;21mdeco\u001b[39m(\u001b[38;5;241m*\u001b[39ma: Any, \u001b[38;5;241m*\u001b[39m\u001b[38;5;241m*\u001b[39mkw: Any) \u001b[38;5;241m-\u001b[39m\u001b[38;5;241m>\u001b[39m Any:\n\u001b[1;32m    178\u001b[0m     \u001b[38;5;28;01mtry\u001b[39;00m:\n\u001b[0;32m--> 179\u001b[0m         \u001b[38;5;28;01mreturn\u001b[39;00m \u001b[43mf\u001b[49m\u001b[43m(\u001b[49m\u001b[38;5;241;43m*\u001b[39;49m\u001b[43ma\u001b[49m\u001b[43m,\u001b[49m\u001b[43m \u001b[49m\u001b[38;5;241;43m*\u001b[39;49m\u001b[38;5;241;43m*\u001b[39;49m\u001b[43mkw\u001b[49m\u001b[43m)\u001b[49m\n\u001b[1;32m    180\u001b[0m     \u001b[38;5;28;01mexcept\u001b[39;00m Py4JJavaError \u001b[38;5;28;01mas\u001b[39;00m e:\n\u001b[1;32m    181\u001b[0m         converted \u001b[38;5;241m=\u001b[39m convert_exception(e\u001b[38;5;241m.\u001b[39mjava_exception)\n",
      "File \u001b[0;32m~/Applications/experiments/stadiums_data_pipeline/stads/lib/python3.8/site-packages/py4j/protocol.py:326\u001b[0m, in \u001b[0;36mget_return_value\u001b[0;34m(answer, gateway_client, target_id, name)\u001b[0m\n",
      "\u001b[0;31mPy4JJavaError\u001b[0m: An error occurred while calling o145.csv.\n: org.apache.spark.SparkException: Unable to clear output directory file:/home/marwen/Applications/experiments/stadiums_data_pipeline prior to writing to it.\n\tat org.apache.spark.sql.errors.QueryExecutionErrors$.cannotClearOutputDirectoryError(QueryExecutionErrors.scala:794)\n\tat org.apache.spark.sql.execution.datasources.InsertIntoHadoopFsRelationCommand.deleteMatchingPartitions(InsertIntoHadoopFsRelationCommand.scala:239)\n\tat org.apache.spark.sql.execution.datasources.InsertIntoHadoopFsRelationCommand.run(InsertIntoHadoopFsRelationCommand.scala:131)\n\tat org.apache.spark.sql.execution.command.DataWritingCommandExec.sideEffectResult$lzycompute(commands.scala:113)\n\tat org.apache.spark.sql.execution.command.DataWritingCommandExec.sideEffectResult(commands.scala:111)\n\tat org.apache.spark.sql.execution.command.DataWritingCommandExec.executeCollect(commands.scala:125)\n\tat org.apache.spark.sql.execution.QueryExecution$$anonfun$eagerlyExecuteCommands$1.$anonfun$applyOrElse$1(QueryExecution.scala:107)\n\tat org.apache.spark.sql.execution.SQLExecution$.$anonfun$withNewExecutionId$6(SQLExecution.scala:125)\n\tat org.apache.spark.sql.execution.SQLExecution$.withSQLConfPropagated(SQLExecution.scala:201)\n\tat org.apache.spark.sql.execution.SQLExecution$.$anonfun$withNewExecutionId$1(SQLExecution.scala:108)\n\tat org.apache.spark.sql.SparkSession.withActive(SparkSession.scala:900)\n\tat org.apache.spark.sql.execution.SQLExecution$.withNewExecutionId(SQLExecution.scala:66)\n\tat org.apache.spark.sql.execution.QueryExecution$$anonfun$eagerlyExecuteCommands$1.applyOrElse(QueryExecution.scala:107)\n\tat org.apache.spark.sql.execution.QueryExecution$$anonfun$eagerlyExecuteCommands$1.applyOrElse(QueryExecution.scala:98)\n\tat org.apache.spark.sql.catalyst.trees.TreeNode.$anonfun$transformDownWithPruning$1(TreeNode.scala:461)\n\tat org.apache.spark.sql.catalyst.trees.CurrentOrigin$.withOrigin(origin.scala:76)\n\tat org.apache.spark.sql.catalyst.trees.TreeNode.transformDownWithPruning(TreeNode.scala:461)\n\tat org.apache.spark.sql.catalyst.plans.logical.LogicalPlan.org$apache$spark$sql$catalyst$plans$logical$AnalysisHelper$$super$transformDownWithPruning(LogicalPlan.scala:32)\n\tat org.apache.spark.sql.catalyst.plans.logical.AnalysisHelper.transformDownWithPruning(AnalysisHelper.scala:267)\n\tat org.apache.spark.sql.catalyst.plans.logical.AnalysisHelper.transformDownWithPruning$(AnalysisHelper.scala:263)\n\tat org.apache.spark.sql.catalyst.plans.logical.LogicalPlan.transformDownWithPruning(LogicalPlan.scala:32)\n\tat org.apache.spark.sql.catalyst.plans.logical.LogicalPlan.transformDownWithPruning(LogicalPlan.scala:32)\n\tat org.apache.spark.sql.catalyst.trees.TreeNode.transformDown(TreeNode.scala:437)\n\tat org.apache.spark.sql.execution.QueryExecution.eagerlyExecuteCommands(QueryExecution.scala:98)\n\tat org.apache.spark.sql.execution.QueryExecution.commandExecuted$lzycompute(QueryExecution.scala:85)\n\tat org.apache.spark.sql.execution.QueryExecution.commandExecuted(QueryExecution.scala:83)\n\tat org.apache.spark.sql.execution.QueryExecution.assertCommandExecuted(QueryExecution.scala:142)\n\tat org.apache.spark.sql.DataFrameWriter.runCommand(DataFrameWriter.scala:859)\n\tat org.apache.spark.sql.DataFrameWriter.saveToV1Source(DataFrameWriter.scala:388)\n\tat org.apache.spark.sql.DataFrameWriter.saveInternal(DataFrameWriter.scala:361)\n\tat org.apache.spark.sql.DataFrameWriter.save(DataFrameWriter.scala:240)\n\tat org.apache.spark.sql.DataFrameWriter.csv(DataFrameWriter.scala:850)\n\tat java.base/jdk.internal.reflect.NativeMethodAccessorImpl.invoke0(Native Method)\n\tat java.base/jdk.internal.reflect.NativeMethodAccessorImpl.invoke(NativeMethodAccessorImpl.java:62)\n\tat java.base/jdk.internal.reflect.DelegatingMethodAccessorImpl.invoke(DelegatingMethodAccessorImpl.java:43)\n\tat java.base/java.lang.reflect.Method.invoke(Method.java:566)\n\tat py4j.reflection.MethodInvoker.invoke(MethodInvoker.java:244)\n\tat py4j.reflection.ReflectionEngine.invoke(ReflectionEngine.java:374)\n\tat py4j.Gateway.invoke(Gateway.java:282)\n\tat py4j.commands.AbstractCommand.invokeMethod(AbstractCommand.java:132)\n\tat py4j.commands.CallCommand.execute(CallCommand.java:79)\n\tat py4j.ClientServerConnection.waitForCommands(ClientServerConnection.java:182)\n\tat py4j.ClientServerConnection.run(ClientServerConnection.java:106)\n\tat java.base/java.lang.Thread.run(Thread.java:829)\n"
     ]
    }
   ],
   "source": [
    "df.write.csv('.', header= True, mode= 'overwrite')"
   ]
  }
 ],
 "metadata": {
  "kernelspec": {
   "display_name": "Python (stads)",
   "language": "python",
   "name": "stads"
  },
  "language_info": {
   "codemirror_mode": {
    "name": "ipython",
    "version": 3
   },
   "file_extension": ".py",
   "mimetype": "text/x-python",
   "name": "python",
   "nbconvert_exporter": "python",
   "pygments_lexer": "ipython3",
   "version": "3.8.10"
  }
 },
 "nbformat": 4,
 "nbformat_minor": 5
}
